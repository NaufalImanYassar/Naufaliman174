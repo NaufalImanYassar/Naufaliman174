{
  "nbformat": 4,
  "nbformat_minor": 0,
  "metadata": {
    "colab": {
      "name": "Mall_Cust_Seg_(3).ipynb",
      "provenance": [],
      "collapsed_sections": []
    },
    "kernelspec": {
      "name": "python3",
      "display_name": "Python 3"
    },
    "language_info": {
      "name": "python"
    }
  },
  "cells": [
    {
      "cell_type": "markdown",
      "source": [
        "Kita mempunyai toko di mall, dan melalui kartu membership kita memiliki memiliki beberapa data tentang pelanggan kita seperti ID Customer, usia, jenis kelamin, pendapatan tahunan, dan pengeluaran.\n",
        "Pengeluaran adalah sesuatu yang akan kita tetapkan kepada pelanggan berdasarkan parameter yang kita tetapkan seperti perilaku pelanggan dan data pembelian.\n",
        "\n",
        "Pernyataan masalah\n",
        "kita pemilik toko di mall, ingin memahami pelanggan kita dengan kebiasaan pelangan dalam berbelanja [Target Pelanggan] sehingga pemahaman kita terhadap pelanggan dapat diberikan kepada tim marketing dan merencanakan strategi yang sesuai."
      ],
      "metadata": {
        "id": "lqyNGWwTEd8S"
      }
    },
    {
      "cell_type": "code",
      "execution_count": 1,
      "metadata": {
        "id": "LPUdDRCkoBtR"
      },
      "outputs": [],
      "source": [
        "import pandas as pd \n",
        "import numpy as np #linear algebra\n",
        "import seaborn as sns\n",
        "import matplotlib.pyplot as plt\n",
        "from time import time\n",
        "from sklearn.cluster import KMeans, MiniBatchKMeans\n",
        "from sklearn.model_selection import train_test_split"
      ]
    },
    {
      "cell_type": "code",
      "source": [
        "df = pd.read_csv ('/content/Mall_Customers(isnull)1.csv')"
      ],
      "metadata": {
        "id": "kpvPlGPPo0EV"
      },
      "execution_count": 2,
      "outputs": []
    },
    {
      "cell_type": "code",
      "source": [
        "df"
      ],
      "metadata": {
        "colab": {
          "base_uri": "https://localhost:8080/",
          "height": 423
        },
        "id": "SpgBZjzXo98c",
        "outputId": "49711807-842a-4a11-8e78-cb8412ce93e7"
      },
      "execution_count": 3,
      "outputs": [
        {
          "output_type": "execute_result",
          "data": {
            "text/plain": [
              "     CustomerID Kelamin  Umur  Pendapatan (Juta Rp)  \\\n",
              "0             1    Male  19.0                    15   \n",
              "1             2    Male  21.0                    15   \n",
              "2             3  Female  20.0                    16   \n",
              "3             4  Female  23.0                    16   \n",
              "4             5  Female  31.0                    17   \n",
              "..          ...     ...   ...                   ...   \n",
              "195         196  Female  35.0                   120   \n",
              "196         197  Female  45.0                   126   \n",
              "197         198    Male  32.0                   126   \n",
              "198         199    Male  32.0                   137   \n",
              "199         200    Male  30.0                   137   \n",
              "\n",
              "     Rating Pengeluaran (1-100)  \n",
              "0                            39  \n",
              "1                            81  \n",
              "2                             6  \n",
              "3                            77  \n",
              "4                            40  \n",
              "..                          ...  \n",
              "195                          79  \n",
              "196                          28  \n",
              "197                          74  \n",
              "198                          18  \n",
              "199                          83  \n",
              "\n",
              "[200 rows x 5 columns]"
            ],
            "text/html": [
              "\n",
              "  <div id=\"df-d441c61f-098a-4e6e-b60d-a33115609dd0\">\n",
              "    <div class=\"colab-df-container\">\n",
              "      <div>\n",
              "<style scoped>\n",
              "    .dataframe tbody tr th:only-of-type {\n",
              "        vertical-align: middle;\n",
              "    }\n",
              "\n",
              "    .dataframe tbody tr th {\n",
              "        vertical-align: top;\n",
              "    }\n",
              "\n",
              "    .dataframe thead th {\n",
              "        text-align: right;\n",
              "    }\n",
              "</style>\n",
              "<table border=\"1\" class=\"dataframe\">\n",
              "  <thead>\n",
              "    <tr style=\"text-align: right;\">\n",
              "      <th></th>\n",
              "      <th>CustomerID</th>\n",
              "      <th>Kelamin</th>\n",
              "      <th>Umur</th>\n",
              "      <th>Pendapatan (Juta Rp)</th>\n",
              "      <th>Rating Pengeluaran (1-100)</th>\n",
              "    </tr>\n",
              "  </thead>\n",
              "  <tbody>\n",
              "    <tr>\n",
              "      <th>0</th>\n",
              "      <td>1</td>\n",
              "      <td>Male</td>\n",
              "      <td>19.0</td>\n",
              "      <td>15</td>\n",
              "      <td>39</td>\n",
              "    </tr>\n",
              "    <tr>\n",
              "      <th>1</th>\n",
              "      <td>2</td>\n",
              "      <td>Male</td>\n",
              "      <td>21.0</td>\n",
              "      <td>15</td>\n",
              "      <td>81</td>\n",
              "    </tr>\n",
              "    <tr>\n",
              "      <th>2</th>\n",
              "      <td>3</td>\n",
              "      <td>Female</td>\n",
              "      <td>20.0</td>\n",
              "      <td>16</td>\n",
              "      <td>6</td>\n",
              "    </tr>\n",
              "    <tr>\n",
              "      <th>3</th>\n",
              "      <td>4</td>\n",
              "      <td>Female</td>\n",
              "      <td>23.0</td>\n",
              "      <td>16</td>\n",
              "      <td>77</td>\n",
              "    </tr>\n",
              "    <tr>\n",
              "      <th>4</th>\n",
              "      <td>5</td>\n",
              "      <td>Female</td>\n",
              "      <td>31.0</td>\n",
              "      <td>17</td>\n",
              "      <td>40</td>\n",
              "    </tr>\n",
              "    <tr>\n",
              "      <th>...</th>\n",
              "      <td>...</td>\n",
              "      <td>...</td>\n",
              "      <td>...</td>\n",
              "      <td>...</td>\n",
              "      <td>...</td>\n",
              "    </tr>\n",
              "    <tr>\n",
              "      <th>195</th>\n",
              "      <td>196</td>\n",
              "      <td>Female</td>\n",
              "      <td>35.0</td>\n",
              "      <td>120</td>\n",
              "      <td>79</td>\n",
              "    </tr>\n",
              "    <tr>\n",
              "      <th>196</th>\n",
              "      <td>197</td>\n",
              "      <td>Female</td>\n",
              "      <td>45.0</td>\n",
              "      <td>126</td>\n",
              "      <td>28</td>\n",
              "    </tr>\n",
              "    <tr>\n",
              "      <th>197</th>\n",
              "      <td>198</td>\n",
              "      <td>Male</td>\n",
              "      <td>32.0</td>\n",
              "      <td>126</td>\n",
              "      <td>74</td>\n",
              "    </tr>\n",
              "    <tr>\n",
              "      <th>198</th>\n",
              "      <td>199</td>\n",
              "      <td>Male</td>\n",
              "      <td>32.0</td>\n",
              "      <td>137</td>\n",
              "      <td>18</td>\n",
              "    </tr>\n",
              "    <tr>\n",
              "      <th>199</th>\n",
              "      <td>200</td>\n",
              "      <td>Male</td>\n",
              "      <td>30.0</td>\n",
              "      <td>137</td>\n",
              "      <td>83</td>\n",
              "    </tr>\n",
              "  </tbody>\n",
              "</table>\n",
              "<p>200 rows × 5 columns</p>\n",
              "</div>\n",
              "      <button class=\"colab-df-convert\" onclick=\"convertToInteractive('df-d441c61f-098a-4e6e-b60d-a33115609dd0')\"\n",
              "              title=\"Convert this dataframe to an interactive table.\"\n",
              "              style=\"display:none;\">\n",
              "        \n",
              "  <svg xmlns=\"http://www.w3.org/2000/svg\" height=\"24px\"viewBox=\"0 0 24 24\"\n",
              "       width=\"24px\">\n",
              "    <path d=\"M0 0h24v24H0V0z\" fill=\"none\"/>\n",
              "    <path d=\"M18.56 5.44l.94 2.06.94-2.06 2.06-.94-2.06-.94-.94-2.06-.94 2.06-2.06.94zm-11 1L8.5 8.5l.94-2.06 2.06-.94-2.06-.94L8.5 2.5l-.94 2.06-2.06.94zm10 10l.94 2.06.94-2.06 2.06-.94-2.06-.94-.94-2.06-.94 2.06-2.06.94z\"/><path d=\"M17.41 7.96l-1.37-1.37c-.4-.4-.92-.59-1.43-.59-.52 0-1.04.2-1.43.59L10.3 9.45l-7.72 7.72c-.78.78-.78 2.05 0 2.83L4 21.41c.39.39.9.59 1.41.59.51 0 1.02-.2 1.41-.59l7.78-7.78 2.81-2.81c.8-.78.8-2.07 0-2.86zM5.41 20L4 18.59l7.72-7.72 1.47 1.35L5.41 20z\"/>\n",
              "  </svg>\n",
              "      </button>\n",
              "      \n",
              "  <style>\n",
              "    .colab-df-container {\n",
              "      display:flex;\n",
              "      flex-wrap:wrap;\n",
              "      gap: 12px;\n",
              "    }\n",
              "\n",
              "    .colab-df-convert {\n",
              "      background-color: #E8F0FE;\n",
              "      border: none;\n",
              "      border-radius: 50%;\n",
              "      cursor: pointer;\n",
              "      display: none;\n",
              "      fill: #1967D2;\n",
              "      height: 32px;\n",
              "      padding: 0 0 0 0;\n",
              "      width: 32px;\n",
              "    }\n",
              "\n",
              "    .colab-df-convert:hover {\n",
              "      background-color: #E2EBFA;\n",
              "      box-shadow: 0px 1px 2px rgba(60, 64, 67, 0.3), 0px 1px 3px 1px rgba(60, 64, 67, 0.15);\n",
              "      fill: #174EA6;\n",
              "    }\n",
              "\n",
              "    [theme=dark] .colab-df-convert {\n",
              "      background-color: #3B4455;\n",
              "      fill: #D2E3FC;\n",
              "    }\n",
              "\n",
              "    [theme=dark] .colab-df-convert:hover {\n",
              "      background-color: #434B5C;\n",
              "      box-shadow: 0px 1px 3px 1px rgba(0, 0, 0, 0.15);\n",
              "      filter: drop-shadow(0px 1px 2px rgba(0, 0, 0, 0.3));\n",
              "      fill: #FFFFFF;\n",
              "    }\n",
              "  </style>\n",
              "\n",
              "      <script>\n",
              "        const buttonEl =\n",
              "          document.querySelector('#df-d441c61f-098a-4e6e-b60d-a33115609dd0 button.colab-df-convert');\n",
              "        buttonEl.style.display =\n",
              "          google.colab.kernel.accessAllowed ? 'block' : 'none';\n",
              "\n",
              "        async function convertToInteractive(key) {\n",
              "          const element = document.querySelector('#df-d441c61f-098a-4e6e-b60d-a33115609dd0');\n",
              "          const dataTable =\n",
              "            await google.colab.kernel.invokeFunction('convertToInteractive',\n",
              "                                                     [key], {});\n",
              "          if (!dataTable) return;\n",
              "\n",
              "          const docLinkHtml = 'Like what you see? Visit the ' +\n",
              "            '<a target=\"_blank\" href=https://colab.research.google.com/notebooks/data_table.ipynb>data table notebook</a>'\n",
              "            + ' to learn more about interactive tables.';\n",
              "          element.innerHTML = '';\n",
              "          dataTable['output_type'] = 'display_data';\n",
              "          await google.colab.output.renderOutput(dataTable, element);\n",
              "          const docLink = document.createElement('div');\n",
              "          docLink.innerHTML = docLinkHtml;\n",
              "          element.appendChild(docLink);\n",
              "        }\n",
              "      </script>\n",
              "    </div>\n",
              "  </div>\n",
              "  "
            ]
          },
          "metadata": {},
          "execution_count": 3
        }
      ]
    },
    {
      "cell_type": "code",
      "source": [
        "df.columns"
      ],
      "metadata": {
        "colab": {
          "base_uri": "https://localhost:8080/"
        },
        "id": "bk2BqPXECdqY",
        "outputId": "05caf020-d448-4fc4-ff13-0255a28edde2"
      },
      "execution_count": 4,
      "outputs": [
        {
          "output_type": "execute_result",
          "data": {
            "text/plain": [
              "Index(['CustomerID', 'Kelamin', 'Umur', 'Pendapatan (Juta Rp)',\n",
              "       'Rating Pengeluaran (1-100)'],\n",
              "      dtype='object')"
            ]
          },
          "metadata": {},
          "execution_count": 4
        }
      ]
    },
    {
      "cell_type": "code",
      "source": [
        "df.describe()"
      ],
      "metadata": {
        "colab": {
          "base_uri": "https://localhost:8080/",
          "height": 300
        },
        "id": "3_-u8Jo3EMXV",
        "outputId": "3c3cfa10-6136-41f2-ae07-c8991d730098"
      },
      "execution_count": 5,
      "outputs": [
        {
          "output_type": "execute_result",
          "data": {
            "text/plain": [
              "       CustomerID        Umur  Pendapatan (Juta Rp)  \\\n",
              "count  200.000000  178.000000            200.000000   \n",
              "mean   100.500000   38.449438             60.560000   \n",
              "std     57.879185   13.565502             26.264721   \n",
              "min      1.000000   18.000000             15.000000   \n",
              "25%     50.750000   29.000000             41.500000   \n",
              "50%    100.500000   35.500000             61.500000   \n",
              "75%    150.250000   48.000000             78.000000   \n",
              "max    200.000000   70.000000            137.000000   \n",
              "\n",
              "       Rating Pengeluaran (1-100)  \n",
              "count                  200.000000  \n",
              "mean                    50.200000  \n",
              "std                     25.823522  \n",
              "min                      1.000000  \n",
              "25%                     34.750000  \n",
              "50%                     50.000000  \n",
              "75%                     73.000000  \n",
              "max                     99.000000  "
            ],
            "text/html": [
              "\n",
              "  <div id=\"df-ebae72f1-66cf-4f28-982f-b0a7a6c8fcf8\">\n",
              "    <div class=\"colab-df-container\">\n",
              "      <div>\n",
              "<style scoped>\n",
              "    .dataframe tbody tr th:only-of-type {\n",
              "        vertical-align: middle;\n",
              "    }\n",
              "\n",
              "    .dataframe tbody tr th {\n",
              "        vertical-align: top;\n",
              "    }\n",
              "\n",
              "    .dataframe thead th {\n",
              "        text-align: right;\n",
              "    }\n",
              "</style>\n",
              "<table border=\"1\" class=\"dataframe\">\n",
              "  <thead>\n",
              "    <tr style=\"text-align: right;\">\n",
              "      <th></th>\n",
              "      <th>CustomerID</th>\n",
              "      <th>Umur</th>\n",
              "      <th>Pendapatan (Juta Rp)</th>\n",
              "      <th>Rating Pengeluaran (1-100)</th>\n",
              "    </tr>\n",
              "  </thead>\n",
              "  <tbody>\n",
              "    <tr>\n",
              "      <th>count</th>\n",
              "      <td>200.000000</td>\n",
              "      <td>178.000000</td>\n",
              "      <td>200.000000</td>\n",
              "      <td>200.000000</td>\n",
              "    </tr>\n",
              "    <tr>\n",
              "      <th>mean</th>\n",
              "      <td>100.500000</td>\n",
              "      <td>38.449438</td>\n",
              "      <td>60.560000</td>\n",
              "      <td>50.200000</td>\n",
              "    </tr>\n",
              "    <tr>\n",
              "      <th>std</th>\n",
              "      <td>57.879185</td>\n",
              "      <td>13.565502</td>\n",
              "      <td>26.264721</td>\n",
              "      <td>25.823522</td>\n",
              "    </tr>\n",
              "    <tr>\n",
              "      <th>min</th>\n",
              "      <td>1.000000</td>\n",
              "      <td>18.000000</td>\n",
              "      <td>15.000000</td>\n",
              "      <td>1.000000</td>\n",
              "    </tr>\n",
              "    <tr>\n",
              "      <th>25%</th>\n",
              "      <td>50.750000</td>\n",
              "      <td>29.000000</td>\n",
              "      <td>41.500000</td>\n",
              "      <td>34.750000</td>\n",
              "    </tr>\n",
              "    <tr>\n",
              "      <th>50%</th>\n",
              "      <td>100.500000</td>\n",
              "      <td>35.500000</td>\n",
              "      <td>61.500000</td>\n",
              "      <td>50.000000</td>\n",
              "    </tr>\n",
              "    <tr>\n",
              "      <th>75%</th>\n",
              "      <td>150.250000</td>\n",
              "      <td>48.000000</td>\n",
              "      <td>78.000000</td>\n",
              "      <td>73.000000</td>\n",
              "    </tr>\n",
              "    <tr>\n",
              "      <th>max</th>\n",
              "      <td>200.000000</td>\n",
              "      <td>70.000000</td>\n",
              "      <td>137.000000</td>\n",
              "      <td>99.000000</td>\n",
              "    </tr>\n",
              "  </tbody>\n",
              "</table>\n",
              "</div>\n",
              "      <button class=\"colab-df-convert\" onclick=\"convertToInteractive('df-ebae72f1-66cf-4f28-982f-b0a7a6c8fcf8')\"\n",
              "              title=\"Convert this dataframe to an interactive table.\"\n",
              "              style=\"display:none;\">\n",
              "        \n",
              "  <svg xmlns=\"http://www.w3.org/2000/svg\" height=\"24px\"viewBox=\"0 0 24 24\"\n",
              "       width=\"24px\">\n",
              "    <path d=\"M0 0h24v24H0V0z\" fill=\"none\"/>\n",
              "    <path d=\"M18.56 5.44l.94 2.06.94-2.06 2.06-.94-2.06-.94-.94-2.06-.94 2.06-2.06.94zm-11 1L8.5 8.5l.94-2.06 2.06-.94-2.06-.94L8.5 2.5l-.94 2.06-2.06.94zm10 10l.94 2.06.94-2.06 2.06-.94-2.06-.94-.94-2.06-.94 2.06-2.06.94z\"/><path d=\"M17.41 7.96l-1.37-1.37c-.4-.4-.92-.59-1.43-.59-.52 0-1.04.2-1.43.59L10.3 9.45l-7.72 7.72c-.78.78-.78 2.05 0 2.83L4 21.41c.39.39.9.59 1.41.59.51 0 1.02-.2 1.41-.59l7.78-7.78 2.81-2.81c.8-.78.8-2.07 0-2.86zM5.41 20L4 18.59l7.72-7.72 1.47 1.35L5.41 20z\"/>\n",
              "  </svg>\n",
              "      </button>\n",
              "      \n",
              "  <style>\n",
              "    .colab-df-container {\n",
              "      display:flex;\n",
              "      flex-wrap:wrap;\n",
              "      gap: 12px;\n",
              "    }\n",
              "\n",
              "    .colab-df-convert {\n",
              "      background-color: #E8F0FE;\n",
              "      border: none;\n",
              "      border-radius: 50%;\n",
              "      cursor: pointer;\n",
              "      display: none;\n",
              "      fill: #1967D2;\n",
              "      height: 32px;\n",
              "      padding: 0 0 0 0;\n",
              "      width: 32px;\n",
              "    }\n",
              "\n",
              "    .colab-df-convert:hover {\n",
              "      background-color: #E2EBFA;\n",
              "      box-shadow: 0px 1px 2px rgba(60, 64, 67, 0.3), 0px 1px 3px 1px rgba(60, 64, 67, 0.15);\n",
              "      fill: #174EA6;\n",
              "    }\n",
              "\n",
              "    [theme=dark] .colab-df-convert {\n",
              "      background-color: #3B4455;\n",
              "      fill: #D2E3FC;\n",
              "    }\n",
              "\n",
              "    [theme=dark] .colab-df-convert:hover {\n",
              "      background-color: #434B5C;\n",
              "      box-shadow: 0px 1px 3px 1px rgba(0, 0, 0, 0.15);\n",
              "      filter: drop-shadow(0px 1px 2px rgba(0, 0, 0, 0.3));\n",
              "      fill: #FFFFFF;\n",
              "    }\n",
              "  </style>\n",
              "\n",
              "      <script>\n",
              "        const buttonEl =\n",
              "          document.querySelector('#df-ebae72f1-66cf-4f28-982f-b0a7a6c8fcf8 button.colab-df-convert');\n",
              "        buttonEl.style.display =\n",
              "          google.colab.kernel.accessAllowed ? 'block' : 'none';\n",
              "\n",
              "        async function convertToInteractive(key) {\n",
              "          const element = document.querySelector('#df-ebae72f1-66cf-4f28-982f-b0a7a6c8fcf8');\n",
              "          const dataTable =\n",
              "            await google.colab.kernel.invokeFunction('convertToInteractive',\n",
              "                                                     [key], {});\n",
              "          if (!dataTable) return;\n",
              "\n",
              "          const docLinkHtml = 'Like what you see? Visit the ' +\n",
              "            '<a target=\"_blank\" href=https://colab.research.google.com/notebooks/data_table.ipynb>data table notebook</a>'\n",
              "            + ' to learn more about interactive tables.';\n",
              "          element.innerHTML = '';\n",
              "          dataTable['output_type'] = 'display_data';\n",
              "          await google.colab.output.renderOutput(dataTable, element);\n",
              "          const docLink = document.createElement('div');\n",
              "          docLink.innerHTML = docLinkHtml;\n",
              "          element.appendChild(docLink);\n",
              "        }\n",
              "      </script>\n",
              "    </div>\n",
              "  </div>\n",
              "  "
            ]
          },
          "metadata": {},
          "execution_count": 5
        }
      ]
    },
    {
      "cell_type": "code",
      "source": [
        "df.info() #cek apakah ada missing value"
      ],
      "metadata": {
        "colab": {
          "base_uri": "https://localhost:8080/"
        },
        "id": "chOdtKpv6Zla",
        "outputId": "2e9ce49d-698a-4467-84ba-0edbf68e325a"
      },
      "execution_count": 6,
      "outputs": [
        {
          "output_type": "stream",
          "name": "stdout",
          "text": [
            "<class 'pandas.core.frame.DataFrame'>\n",
            "RangeIndex: 200 entries, 0 to 199\n",
            "Data columns (total 5 columns):\n",
            " #   Column                      Non-Null Count  Dtype  \n",
            "---  ------                      --------------  -----  \n",
            " 0   CustomerID                  200 non-null    int64  \n",
            " 1   Kelamin                     200 non-null    object \n",
            " 2   Umur                        178 non-null    float64\n",
            " 3   Pendapatan (Juta Rp)        200 non-null    int64  \n",
            " 4   Rating Pengeluaran (1-100)  200 non-null    int64  \n",
            "dtypes: float64(1), int64(3), object(1)\n",
            "memory usage: 7.9+ KB\n"
          ]
        }
      ]
    },
    {
      "cell_type": "code",
      "source": [
        "rata_umur = df['Umur'].mean() #mengisi missing value 'age' dengan nilai mean \n",
        "df['Umur'].fillna(rata_umur, inplace=True)\n",
        "\n",
        "df.isna().sum()"
      ],
      "metadata": {
        "colab": {
          "base_uri": "https://localhost:8080/"
        },
        "id": "ioncufZ9mHUz",
        "outputId": "6a79002d-4c0d-40f3-c68e-75f505bba046"
      },
      "execution_count": 7,
      "outputs": [
        {
          "output_type": "execute_result",
          "data": {
            "text/plain": [
              "CustomerID                    0\n",
              "Kelamin                       0\n",
              "Umur                          0\n",
              "Pendapatan (Juta Rp)          0\n",
              "Rating Pengeluaran (1-100)    0\n",
              "dtype: int64"
            ]
          },
          "metadata": {},
          "execution_count": 7
        }
      ]
    },
    {
      "cell_type": "code",
      "source": [
        "df.head()"
      ],
      "metadata": {
        "colab": {
          "base_uri": "https://localhost:8080/",
          "height": 206
        },
        "id": "yb-tMey9_fsS",
        "outputId": "39bbb08b-1594-4c27-a867-83e4180122b0"
      },
      "execution_count": 8,
      "outputs": [
        {
          "output_type": "execute_result",
          "data": {
            "text/plain": [
              "   CustomerID Kelamin  Umur  Pendapatan (Juta Rp)  Rating Pengeluaran (1-100)\n",
              "0           1    Male  19.0                    15                          39\n",
              "1           2    Male  21.0                    15                          81\n",
              "2           3  Female  20.0                    16                           6\n",
              "3           4  Female  23.0                    16                          77\n",
              "4           5  Female  31.0                    17                          40"
            ],
            "text/html": [
              "\n",
              "  <div id=\"df-47544f1a-74db-4d7e-8a42-a02667a77892\">\n",
              "    <div class=\"colab-df-container\">\n",
              "      <div>\n",
              "<style scoped>\n",
              "    .dataframe tbody tr th:only-of-type {\n",
              "        vertical-align: middle;\n",
              "    }\n",
              "\n",
              "    .dataframe tbody tr th {\n",
              "        vertical-align: top;\n",
              "    }\n",
              "\n",
              "    .dataframe thead th {\n",
              "        text-align: right;\n",
              "    }\n",
              "</style>\n",
              "<table border=\"1\" class=\"dataframe\">\n",
              "  <thead>\n",
              "    <tr style=\"text-align: right;\">\n",
              "      <th></th>\n",
              "      <th>CustomerID</th>\n",
              "      <th>Kelamin</th>\n",
              "      <th>Umur</th>\n",
              "      <th>Pendapatan (Juta Rp)</th>\n",
              "      <th>Rating Pengeluaran (1-100)</th>\n",
              "    </tr>\n",
              "  </thead>\n",
              "  <tbody>\n",
              "    <tr>\n",
              "      <th>0</th>\n",
              "      <td>1</td>\n",
              "      <td>Male</td>\n",
              "      <td>19.0</td>\n",
              "      <td>15</td>\n",
              "      <td>39</td>\n",
              "    </tr>\n",
              "    <tr>\n",
              "      <th>1</th>\n",
              "      <td>2</td>\n",
              "      <td>Male</td>\n",
              "      <td>21.0</td>\n",
              "      <td>15</td>\n",
              "      <td>81</td>\n",
              "    </tr>\n",
              "    <tr>\n",
              "      <th>2</th>\n",
              "      <td>3</td>\n",
              "      <td>Female</td>\n",
              "      <td>20.0</td>\n",
              "      <td>16</td>\n",
              "      <td>6</td>\n",
              "    </tr>\n",
              "    <tr>\n",
              "      <th>3</th>\n",
              "      <td>4</td>\n",
              "      <td>Female</td>\n",
              "      <td>23.0</td>\n",
              "      <td>16</td>\n",
              "      <td>77</td>\n",
              "    </tr>\n",
              "    <tr>\n",
              "      <th>4</th>\n",
              "      <td>5</td>\n",
              "      <td>Female</td>\n",
              "      <td>31.0</td>\n",
              "      <td>17</td>\n",
              "      <td>40</td>\n",
              "    </tr>\n",
              "  </tbody>\n",
              "</table>\n",
              "</div>\n",
              "      <button class=\"colab-df-convert\" onclick=\"convertToInteractive('df-47544f1a-74db-4d7e-8a42-a02667a77892')\"\n",
              "              title=\"Convert this dataframe to an interactive table.\"\n",
              "              style=\"display:none;\">\n",
              "        \n",
              "  <svg xmlns=\"http://www.w3.org/2000/svg\" height=\"24px\"viewBox=\"0 0 24 24\"\n",
              "       width=\"24px\">\n",
              "    <path d=\"M0 0h24v24H0V0z\" fill=\"none\"/>\n",
              "    <path d=\"M18.56 5.44l.94 2.06.94-2.06 2.06-.94-2.06-.94-.94-2.06-.94 2.06-2.06.94zm-11 1L8.5 8.5l.94-2.06 2.06-.94-2.06-.94L8.5 2.5l-.94 2.06-2.06.94zm10 10l.94 2.06.94-2.06 2.06-.94-2.06-.94-.94-2.06-.94 2.06-2.06.94z\"/><path d=\"M17.41 7.96l-1.37-1.37c-.4-.4-.92-.59-1.43-.59-.52 0-1.04.2-1.43.59L10.3 9.45l-7.72 7.72c-.78.78-.78 2.05 0 2.83L4 21.41c.39.39.9.59 1.41.59.51 0 1.02-.2 1.41-.59l7.78-7.78 2.81-2.81c.8-.78.8-2.07 0-2.86zM5.41 20L4 18.59l7.72-7.72 1.47 1.35L5.41 20z\"/>\n",
              "  </svg>\n",
              "      </button>\n",
              "      \n",
              "  <style>\n",
              "    .colab-df-container {\n",
              "      display:flex;\n",
              "      flex-wrap:wrap;\n",
              "      gap: 12px;\n",
              "    }\n",
              "\n",
              "    .colab-df-convert {\n",
              "      background-color: #E8F0FE;\n",
              "      border: none;\n",
              "      border-radius: 50%;\n",
              "      cursor: pointer;\n",
              "      display: none;\n",
              "      fill: #1967D2;\n",
              "      height: 32px;\n",
              "      padding: 0 0 0 0;\n",
              "      width: 32px;\n",
              "    }\n",
              "\n",
              "    .colab-df-convert:hover {\n",
              "      background-color: #E2EBFA;\n",
              "      box-shadow: 0px 1px 2px rgba(60, 64, 67, 0.3), 0px 1px 3px 1px rgba(60, 64, 67, 0.15);\n",
              "      fill: #174EA6;\n",
              "    }\n",
              "\n",
              "    [theme=dark] .colab-df-convert {\n",
              "      background-color: #3B4455;\n",
              "      fill: #D2E3FC;\n",
              "    }\n",
              "\n",
              "    [theme=dark] .colab-df-convert:hover {\n",
              "      background-color: #434B5C;\n",
              "      box-shadow: 0px 1px 3px 1px rgba(0, 0, 0, 0.15);\n",
              "      filter: drop-shadow(0px 1px 2px rgba(0, 0, 0, 0.3));\n",
              "      fill: #FFFFFF;\n",
              "    }\n",
              "  </style>\n",
              "\n",
              "      <script>\n",
              "        const buttonEl =\n",
              "          document.querySelector('#df-47544f1a-74db-4d7e-8a42-a02667a77892 button.colab-df-convert');\n",
              "        buttonEl.style.display =\n",
              "          google.colab.kernel.accessAllowed ? 'block' : 'none';\n",
              "\n",
              "        async function convertToInteractive(key) {\n",
              "          const element = document.querySelector('#df-47544f1a-74db-4d7e-8a42-a02667a77892');\n",
              "          const dataTable =\n",
              "            await google.colab.kernel.invokeFunction('convertToInteractive',\n",
              "                                                     [key], {});\n",
              "          if (!dataTable) return;\n",
              "\n",
              "          const docLinkHtml = 'Like what you see? Visit the ' +\n",
              "            '<a target=\"_blank\" href=https://colab.research.google.com/notebooks/data_table.ipynb>data table notebook</a>'\n",
              "            + ' to learn more about interactive tables.';\n",
              "          element.innerHTML = '';\n",
              "          dataTable['output_type'] = 'display_data';\n",
              "          await google.colab.output.renderOutput(dataTable, element);\n",
              "          const docLink = document.createElement('div');\n",
              "          docLink.innerHTML = docLinkHtml;\n",
              "          element.appendChild(docLink);\n",
              "        }\n",
              "      </script>\n",
              "    </div>\n",
              "  </div>\n",
              "  "
            ]
          },
          "metadata": {},
          "execution_count": 8
        }
      ]
    },
    {
      "cell_type": "code",
      "source": [
        "# cek outlier kita\n",
        "fig, ax = plt.subplots(figsize=(20,10))\n",
        "sns.boxplot(data=df)"
      ],
      "metadata": {
        "colab": {
          "base_uri": "https://localhost:8080/",
          "height": 610
        },
        "id": "NbQRBlejoCcG",
        "outputId": "2cabd868-6d09-4565-daff-3070b46dbee8"
      },
      "execution_count": 9,
      "outputs": [
        {
          "output_type": "execute_result",
          "data": {
            "text/plain": [
              "<matplotlib.axes._subplots.AxesSubplot at 0x7f8347a55510>"
            ]
          },
          "metadata": {},
          "execution_count": 9
        },
        {
          "output_type": "display_data",
          "data": {
            "text/plain": [
              "<Figure size 1440x720 with 1 Axes>"
            ],
            "image/png": "[encoded data removed]"
          },
          "metadata": {
            "needs_background": "light"
          }
        }
      ]
    },
    {
      "cell_type": "markdown",
      "source": [
        "dilihat dari grafik diatas terdapat outlier pada Pendapatan, tetapi kita tidak akan buang outliernya karena dari data pendapatan itu akan kita analisis juga"
      ],
      "metadata": {
        "id": "up9zVg3w9_1v"
      }
    },
    {
      "cell_type": "markdown",
      "source": [
        "Selanjutnya kita juga akan mengecek korelasi"
      ],
      "metadata": {
        "id": "JYHfS6td-ZIT"
      }
    },
    {
      "cell_type": "code",
      "source": [
        "# Cek Korelasi antara kolom di data kita\n",
        "# korelasi mengecek nilai diatas 0.75 atau min 0.75\n",
        "corr_matrix = df.corr().abs()\n",
        "\n",
        "\n",
        "upper = corr_matrix.where(np.triu(np.ones(corr_matrix.shape), k=1).astype(np.bool))\n",
        "\n",
        "plt.figure(figsize=(10,10))\n",
        "sns.heatmap(upper, annot=True, cmap='Blues')"
      ],
      "metadata": {
        "colab": {
          "base_uri": "https://localhost:8080/",
          "height": 813
        },
        "id": "W6SyuNq0nUU_",
        "outputId": "ad713333-6e40-4f3b-8a92-ddeef180c04b"
      },
      "execution_count": 10,
      "outputs": [
        {
          "output_type": "stream",
          "name": "stderr",
          "text": [
            "/usr/local/lib/python3.7/dist-packages/ipykernel_launcher.py:6: DeprecationWarning: `np.bool` is a deprecated alias for the builtin `bool`. To silence this warning, use `bool` by itself. Doing this will not modify any behavior and is safe. If you specifically wanted the numpy scalar type, use `np.bool_` here.\n",
            "Deprecated in NumPy 1.20; for more details and guidance: https://numpy.org/devdocs/release/1.20.0-notes.html#deprecations\n",
            "  \n"
          ]
        },
        {
          "output_type": "execute_result",
          "data": {
            "text/plain": [
              "<matplotlib.axes._subplots.AxesSubplot at 0x7f8349ad5910>"
            ]
          },
          "metadata": {},
          "execution_count": 10
        },
        {
          "output_type": "display_data",
          "data": {
            "text/plain": [
              "<Figure size 720x720 with 2 Axes>"
            ],
            "image/png": "[encoded data removed]"
          },
          "metadata": {
            "needs_background": "light"
          }
        }
      ]
    },
    {
      "cell_type": "markdown",
      "source": [
        "Karena customerID dan juga pendapatan mempunyai korelasi yang kuat diatas 0.75 maka kita akan drop/buang salah satu kolom dan yang akan kita buang adalah kolom CustomerID, dikarenakan CustomerID hanyalah kolom unique saja dan tidak terlalu penting untuk kita analisis"
      ],
      "metadata": {
        "id": "SzOmgKXMGxjG"
      }
    },
    {
      "cell_type": "code",
      "source": [
        "df.drop('CustomerID', axis=1, inplace=True)"
      ],
      "metadata": {
        "id": "mo7Yq0TCoNsK"
      },
      "execution_count": 11,
      "outputs": []
    },
    {
      "cell_type": "code",
      "source": [
        "df.describe()"
      ],
      "metadata": {
        "colab": {
          "base_uri": "https://localhost:8080/",
          "height": 300
        },
        "id": "JutfaYaX_GMg",
        "outputId": "b6f8a06c-3909-475e-ebd2-9a1d2fd6b166"
      },
      "execution_count": 12,
      "outputs": [
        {
          "output_type": "execute_result",
          "data": {
            "text/plain": [
              "             Umur  Pendapatan (Juta Rp)  Rating Pengeluaran (1-100)\n",
              "count  200.000000            200.000000                  200.000000\n",
              "mean    38.449438             60.560000                   50.200000\n",
              "std     12.793694             26.264721                   25.823522\n",
              "min     18.000000             15.000000                    1.000000\n",
              "25%     30.000000             41.500000                   34.750000\n",
              "50%     38.000000             61.500000                   50.000000\n",
              "75%     47.000000             78.000000                   73.000000\n",
              "max     70.000000            137.000000                   99.000000"
            ],
            "text/html": [
              "\n",
              "  <div id=\"df-8a4beebc-a472-4ba4-b96b-8529550c8aee\">\n",
              "    <div class=\"colab-df-container\">\n",
              "      <div>\n",
              "<style scoped>\n",
              "    .dataframe tbody tr th:only-of-type {\n",
              "        vertical-align: middle;\n",
              "    }\n",
              "\n",
              "    .dataframe tbody tr th {\n",
              "        vertical-align: top;\n",
              "    }\n",
              "\n",
              "    .dataframe thead th {\n",
              "        text-align: right;\n",
              "    }\n",
              "</style>\n",
              "<table border=\"1\" class=\"dataframe\">\n",
              "  <thead>\n",
              "    <tr style=\"text-align: right;\">\n",
              "      <th></th>\n",
              "      <th>Umur</th>\n",
              "      <th>Pendapatan (Juta Rp)</th>\n",
              "      <th>Rating Pengeluaran (1-100)</th>\n",
              "    </tr>\n",
              "  </thead>\n",
              "  <tbody>\n",
              "    <tr>\n",
              "      <th>count</th>\n",
              "      <td>200.000000</td>\n",
              "      <td>200.000000</td>\n",
              "      <td>200.000000</td>\n",
              "    </tr>\n",
              "    <tr>\n",
              "      <th>mean</th>\n",
              "      <td>38.449438</td>\n",
              "      <td>60.560000</td>\n",
              "      <td>50.200000</td>\n",
              "    </tr>\n",
              "    <tr>\n",
              "      <th>std</th>\n",
              "      <td>12.793694</td>\n",
              "      <td>26.264721</td>\n",
              "      <td>25.823522</td>\n",
              "    </tr>\n",
              "    <tr>\n",
              "      <th>min</th>\n",
              "      <td>18.000000</td>\n",
              "      <td>15.000000</td>\n",
              "      <td>1.000000</td>\n",
              "    </tr>\n",
              "    <tr>\n",
              "      <th>25%</th>\n",
              "      <td>30.000000</td>\n",
              "      <td>41.500000</td>\n",
              "      <td>34.750000</td>\n",
              "    </tr>\n",
              "    <tr>\n",
              "      <th>50%</th>\n",
              "      <td>38.000000</td>\n",
              "      <td>61.500000</td>\n",
              "      <td>50.000000</td>\n",
              "    </tr>\n",
              "    <tr>\n",
              "      <th>75%</th>\n",
              "      <td>47.000000</td>\n",
              "      <td>78.000000</td>\n",
              "      <td>73.000000</td>\n",
              "    </tr>\n",
              "    <tr>\n",
              "      <th>max</th>\n",
              "      <td>70.000000</td>\n",
              "      <td>137.000000</td>\n",
              "      <td>99.000000</td>\n",
              "    </tr>\n",
              "  </tbody>\n",
              "</table>\n",
              "</div>\n",
              "      <button class=\"colab-df-convert\" onclick=\"convertToInteractive('df-8a4beebc-a472-4ba4-b96b-8529550c8aee')\"\n",
              "              title=\"Convert this dataframe to an interactive table.\"\n",
              "              style=\"display:none;\">\n",
              "        \n",
              "  <svg xmlns=\"http://www.w3.org/2000/svg\" height=\"24px\"viewBox=\"0 0 24 24\"\n",
              "       width=\"24px\">\n",
              "    <path d=\"M0 0h24v24H0V0z\" fill=\"none\"/>\n",
              "    <path d=\"M18.56 5.44l.94 2.06.94-2.06 2.06-.94-2.06-.94-.94-2.06-.94 2.06-2.06.94zm-11 1L8.5 8.5l.94-2.06 2.06-.94-2.06-.94L8.5 2.5l-.94 2.06-2.06.94zm10 10l.94 2.06.94-2.06 2.06-.94-2.06-.94-.94-2.06-.94 2.06-2.06.94z\"/><path d=\"M17.41 7.96l-1.37-1.37c-.4-.4-.92-.59-1.43-.59-.52 0-1.04.2-1.43.59L10.3 9.45l-7.72 7.72c-.78.78-.78 2.05 0 2.83L4 21.41c.39.39.9.59 1.41.59.51 0 1.02-.2 1.41-.59l7.78-7.78 2.81-2.81c.8-.78.8-2.07 0-2.86zM5.41 20L4 18.59l7.72-7.72 1.47 1.35L5.41 20z\"/>\n",
              "  </svg>\n",
              "      </button>\n",
              "      \n",
              "  <style>\n",
              "    .colab-df-container {\n",
              "      display:flex;\n",
              "      flex-wrap:wrap;\n",
              "      gap: 12px;\n",
              "    }\n",
              "\n",
              "    .colab-df-convert {\n",
              "      background-color: #E8F0FE;\n",
              "      border: none;\n",
              "      border-radius: 50%;\n",
              "      cursor: pointer;\n",
              "      display: none;\n",
              "      fill: #1967D2;\n",
              "      height: 32px;\n",
              "      padding: 0 0 0 0;\n",
              "      width: 32px;\n",
              "    }\n",
              "\n",
              "    .colab-df-convert:hover {\n",
              "      background-color: #E2EBFA;\n",
              "      box-shadow: 0px 1px 2px rgba(60, 64, 67, 0.3), 0px 1px 3px 1px rgba(60, 64, 67, 0.15);\n",
              "      fill: #174EA6;\n",
              "    }\n",
              "\n",
              "    [theme=dark] .colab-df-convert {\n",
              "      background-color: #3B4455;\n",
              "      fill: #D2E3FC;\n",
              "    }\n",
              "\n",
              "    [theme=dark] .colab-df-convert:hover {\n",
              "      background-color: #434B5C;\n",
              "      box-shadow: 0px 1px 3px 1px rgba(0, 0, 0, 0.15);\n",
              "      filter: drop-shadow(0px 1px 2px rgba(0, 0, 0, 0.3));\n",
              "      fill: #FFFFFF;\n",
              "    }\n",
              "  </style>\n",
              "\n",
              "      <script>\n",
              "        const buttonEl =\n",
              "          document.querySelector('#df-8a4beebc-a472-4ba4-b96b-8529550c8aee button.colab-df-convert');\n",
              "        buttonEl.style.display =\n",
              "          google.colab.kernel.accessAllowed ? 'block' : 'none';\n",
              "\n",
              "        async function convertToInteractive(key) {\n",
              "          const element = document.querySelector('#df-8a4beebc-a472-4ba4-b96b-8529550c8aee');\n",
              "          const dataTable =\n",
              "            await google.colab.kernel.invokeFunction('convertToInteractive',\n",
              "                                                     [key], {});\n",
              "          if (!dataTable) return;\n",
              "\n",
              "          const docLinkHtml = 'Like what you see? Visit the ' +\n",
              "            '<a target=\"_blank\" href=https://colab.research.google.com/notebooks/data_table.ipynb>data table notebook</a>'\n",
              "            + ' to learn more about interactive tables.';\n",
              "          element.innerHTML = '';\n",
              "          dataTable['output_type'] = 'display_data';\n",
              "          await google.colab.output.renderOutput(dataTable, element);\n",
              "          const docLink = document.createElement('div');\n",
              "          docLink.innerHTML = docLinkHtml;\n",
              "          element.appendChild(docLink);\n",
              "        }\n",
              "      </script>\n",
              "    </div>\n",
              "  </div>\n",
              "  "
            ]
          },
          "metadata": {},
          "execution_count": 12
        }
      ]
    },
    {
      "cell_type": "code",
      "source": [
        "# cek korelasi lagi\n",
        "corr_matrix = df.corr().abs()\n",
        "\n",
        "\n",
        "upper = corr_matrix.where(np.triu(np.ones(corr_matrix.shape), k=1).astype(np.bool))\n",
        "\n",
        "plt.figure(figsize=(10,10))\n",
        "sns.heatmap(upper, annot=True, cmap='Blues')"
      ],
      "metadata": {
        "colab": {
          "base_uri": "https://localhost:8080/",
          "height": 685
        },
        "id": "yFQrTJehow6w",
        "outputId": "b02b5448-f3c3-4495-fd06-9bf48bbb874e"
      },
      "execution_count": 13,
      "outputs": [
        {
          "output_type": "stream",
          "name": "stderr",
          "text": [
            "/usr/local/lib/python3.7/dist-packages/ipykernel_launcher.py:5: DeprecationWarning: `np.bool` is a deprecated alias for the builtin `bool`. To silence this warning, use `bool` by itself. Doing this will not modify any behavior and is safe. If you specifically wanted the numpy scalar type, use `np.bool_` here.\n",
            "Deprecated in NumPy 1.20; for more details and guidance: https://numpy.org/devdocs/release/1.20.0-notes.html#deprecations\n",
            "  \"\"\"\n"
          ]
        },
        {
          "output_type": "execute_result",
          "data": {
            "text/plain": [
              "<matplotlib.axes._subplots.AxesSubplot at 0x7f8344c0dcd0>"
            ]
          },
          "metadata": {},
          "execution_count": 13
        },
        {
          "output_type": "display_data",
          "data": {
            "text/plain": [
              "<Figure size 720x720 with 2 Axes>"
            ],
            "image/png": "[encoded data removed]"
          },
          "metadata": {
            "needs_background": "light"
          }
        }
      ]
    },
    {
      "cell_type": "code",
      "source": [
        "plt.figure(1 , figsize = (10 , 5))\n",
        "sns.countplot(y = 'Kelamin' , data = df)\n",
        "plt.title('Jenis Kelamin')\n",
        "plt.show()"
      ],
      "metadata": {
        "colab": {
          "base_uri": "https://localhost:8080/",
          "height": 350
        },
        "id": "7PSsC-ACtqt9",
        "outputId": "9aad6f62-3e6e-4e40-e2e1-fb3938c6a10a"
      },
      "execution_count": 14,
      "outputs": [
        {
          "output_type": "display_data",
          "data": {
            "text/plain": [
              "<Figure size 720x360 with 1 Axes>"
            ],
            "image/png": "[encoded data removed]"
          },
          "metadata": {
            "needs_background": "light"
          }
        }
      ]
    },
    {
      "cell_type": "markdown",
      "source": [
        "Kita bisa melihat dari grafik diatas bahwa data yang kita dapat, perempuan memiliki jenis kelamin yang paling banyak "
      ],
      "metadata": {
        "id": "AUs58cuTPyzh"
      }
    },
    {
      "cell_type": "code",
      "source": [
        "age18_25 = df.Umur[(df.Umur <= 25) & (df.Umur >= 18)]\n",
        "age26_35 = df.Umur[(df.Umur <= 35) & (df.Umur >= 26)]\n",
        "age36_45 = df.Umur[(df.Umur <= 45) & (df.Umur >= 36)]\n",
        "age46_55 = df.Umur[(df.Umur <= 55) & (df.Umur >= 46)]\n",
        "age55above = df.Umur[df.Umur >= 56]\n",
        "\n",
        "x = [\"18-25\",\"26-35\",\"36-45\",\"46-55\",\"55+\"]\n",
        "y = [len(age18_25.values),len(age26_35.values),len(age36_45.values),len(age46_55.values),len(age55above.values)]\n",
        "\n",
        "plt.figure(figsize=(15,6))\n",
        "sns.barplot(x=x, y=y, palette=\"rocket\")\n",
        "plt.title(\"Jumlah Customer dan Usia\")\n",
        "plt.xlabel(\"Umur\")\n",
        "plt.ylabel(\"Jumlah Customer\")\n",
        "plt.show()"
      ],
      "metadata": {
        "colab": {
          "base_uri": "https://localhost:8080/",
          "height": 404
        },
        "id": "kbdbniPzxN-S",
        "outputId": "a75c8303-07c0-469e-db54-da1f535a03b7"
      },
      "execution_count": 15,
      "outputs": [
        {
          "output_type": "display_data",
          "data": {
            "text/plain": [
              "<Figure size 1080x432 with 1 Axes>"
            ],
            "image/png": "[encoded data removed]"
          },
          "metadata": {
            "needs_background": "light"
          }
        }
      ]
    },
    {
      "cell_type": "code",
      "source": [
        "ai0_30 = df[\"Pendapatan (Juta Rp)\"][(df[\"Pendapatan (Juta Rp)\"] >= 0) & (df[\"Pendapatan (Juta Rp)\"] <= 30)]\n",
        "ai31_60 = df[\"Pendapatan (Juta Rp)\"][(df[\"Pendapatan (Juta Rp)\"] >= 31) & (df[\"Pendapatan (Juta Rp)\"] <= 60)]\n",
        "ai61_90 = df[\"Pendapatan (Juta Rp)\"][(df[\"Pendapatan (Juta Rp)\"] >= 61) & (df[\"Pendapatan (Juta Rp)\"] <= 90)]\n",
        "ai91_120 = df[\"Pendapatan (Juta Rp)\"][(df[\"Pendapatan (Juta Rp)\"] >= 91) & (df[\"Pendapatan (Juta Rp)\"] <= 120)]\n",
        "ai121_150 = df[\"Pendapatan (Juta Rp)\"][(df[\"Pendapatan (Juta Rp)\"] >= 121) & (df[\"Pendapatan (Juta Rp)\"] <= 150)]\n",
        "\n",
        "aix = [\"Rp 0 - 30Jt\", \"Rp 30.1Jt - 60Jt\", \"Rp 60.1Jt - 90Jt\", \"Rp 90.1Jt - 120k\", \"Rp 120.1Jt - 150Jt\"]\n",
        "aiy = [len(ai0_30.values), len(ai31_60.values), len(ai61_90.values), len(ai91_120.values), len(ai121_150.values)]\n",
        "\n",
        "plt.figure(figsize=(15,6))\n",
        "sns.barplot(x=aix, y=aiy, palette=\"Set2\")\n",
        "plt.title(\"Pendapatan Keseluruhan\")\n",
        "plt.xlabel(\"Pendapatan\")\n",
        "plt.ylabel(\"Jumlah Customer\")\n",
        "plt.show()"
      ],
      "metadata": {
        "colab": {
          "base_uri": "https://localhost:8080/",
          "height": 404
        },
        "id": "2BCxPJ1fzgdV",
        "outputId": "36db147f-de2c-4887-fd72-1d58abfb6e0d"
      },
      "execution_count": 16,
      "outputs": [
        {
          "output_type": "display_data",
          "data": {
            "text/plain": [
              "<Figure size 1080x432 with 1 Axes>"
            ],
            "image/png": "[encoded data removed]"
          },
          "metadata": {
            "needs_background": "light"
          }
        }
      ]
    },
    {
      "cell_type": "code",
      "source": [
        "df.head()"
      ],
      "metadata": {
        "colab": {
          "base_uri": "https://localhost:8080/",
          "height": 206
        },
        "id": "vuFBjnyN5Dfs",
        "outputId": "53b101c3-a257-4d76-a97a-1d0683a1cd1c"
      },
      "execution_count": 26,
      "outputs": [
        {
          "output_type": "execute_result",
          "data": {
            "text/plain": [
              "   Kelamin  Umur  Pendapatan (Juta Rp)  Rating Pengeluaran (1-100)  kelamin\n",
              "0        1  19.0                    15                          39        1\n",
              "1        1  21.0                    15                          81        1\n",
              "2        0  20.0                    16                           6        0\n",
              "3        0  23.0                    16                          77        0\n",
              "4        0  31.0                    17                          40        0"
            ],
            "text/html": [
              "\n",
              "  <div id=\"df-4377faec-286a-4727-84d5-915353ce7f77\">\n",
              "    <div class=\"colab-df-container\">\n",
              "      <div>\n",
              "<style scoped>\n",
              "    .dataframe tbody tr th:only-of-type {\n",
              "        vertical-align: middle;\n",
              "    }\n",
              "\n",
              "    .dataframe tbody tr th {\n",
              "        vertical-align: top;\n",
              "    }\n",
              "\n",
              "    .dataframe thead th {\n",
              "        text-align: right;\n",
              "    }\n",
              "</style>\n",
              "<table border=\"1\" class=\"dataframe\">\n",
              "  <thead>\n",
              "    <tr style=\"text-align: right;\">\n",
              "      <th></th>\n",
              "      <th>Kelamin</th>\n",
              "      <th>Umur</th>\n",
              "      <th>Pendapatan (Juta Rp)</th>\n",
              "      <th>Rating Pengeluaran (1-100)</th>\n",
              "      <th>kelamin</th>\n",
              "    </tr>\n",
              "  </thead>\n",
              "  <tbody>\n",
              "    <tr>\n",
              "      <th>0</th>\n",
              "      <td>1</td>\n",
              "      <td>19.0</td>\n",
              "      <td>15</td>\n",
              "      <td>39</td>\n",
              "      <td>1</td>\n",
              "    </tr>\n",
              "    <tr>\n",
              "      <th>1</th>\n",
              "      <td>1</td>\n",
              "      <td>21.0</td>\n",
              "      <td>15</td>\n",
              "      <td>81</td>\n",
              "      <td>1</td>\n",
              "    </tr>\n",
              "    <tr>\n",
              "      <th>2</th>\n",
              "      <td>0</td>\n",
              "      <td>20.0</td>\n",
              "      <td>16</td>\n",
              "      <td>6</td>\n",
              "      <td>0</td>\n",
              "    </tr>\n",
              "    <tr>\n",
              "      <th>3</th>\n",
              "      <td>0</td>\n",
              "      <td>23.0</td>\n",
              "      <td>16</td>\n",
              "      <td>77</td>\n",
              "      <td>0</td>\n",
              "    </tr>\n",
              "    <tr>\n",
              "      <th>4</th>\n",
              "      <td>0</td>\n",
              "      <td>31.0</td>\n",
              "      <td>17</td>\n",
              "      <td>40</td>\n",
              "      <td>0</td>\n",
              "    </tr>\n",
              "  </tbody>\n",
              "</table>\n",
              "</div>\n",
              "      <button class=\"colab-df-convert\" onclick=\"convertToInteractive('df-4377faec-286a-4727-84d5-915353ce7f77')\"\n",
              "              title=\"Convert this dataframe to an interactive table.\"\n",
              "              style=\"display:none;\">\n",
              "        \n",
              "  <svg xmlns=\"http://www.w3.org/2000/svg\" height=\"24px\"viewBox=\"0 0 24 24\"\n",
              "       width=\"24px\">\n",
              "    <path d=\"M0 0h24v24H0V0z\" fill=\"none\"/>\n",
              "    <path d=\"M18.56 5.44l.94 2.06.94-2.06 2.06-.94-2.06-.94-.94-2.06-.94 2.06-2.06.94zm-11 1L8.5 8.5l.94-2.06 2.06-.94-2.06-.94L8.5 2.5l-.94 2.06-2.06.94zm10 10l.94 2.06.94-2.06 2.06-.94-2.06-.94-.94-2.06-.94 2.06-2.06.94z\"/><path d=\"M17.41 7.96l-1.37-1.37c-.4-.4-.92-.59-1.43-.59-.52 0-1.04.2-1.43.59L10.3 9.45l-7.72 7.72c-.78.78-.78 2.05 0 2.83L4 21.41c.39.39.9.59 1.41.59.51 0 1.02-.2 1.41-.59l7.78-7.78 2.81-2.81c.8-.78.8-2.07 0-2.86zM5.41 20L4 18.59l7.72-7.72 1.47 1.35L5.41 20z\"/>\n",
              "  </svg>\n",
              "      </button>\n",
              "      \n",
              "  <style>\n",
              "    .colab-df-container {\n",
              "      display:flex;\n",
              "      flex-wrap:wrap;\n",
              "      gap: 12px;\n",
              "    }\n",
              "\n",
              "    .colab-df-convert {\n",
              "      background-color: #E8F0FE;\n",
              "      border: none;\n",
              "      border-radius: 50%;\n",
              "      cursor: pointer;\n",
              "      display: none;\n",
              "      fill: #1967D2;\n",
              "      height: 32px;\n",
              "      padding: 0 0 0 0;\n",
              "      width: 32px;\n",
              "    }\n",
              "\n",
              "    .colab-df-convert:hover {\n",
              "      background-color: #E2EBFA;\n",
              "      box-shadow: 0px 1px 2px rgba(60, 64, 67, 0.3), 0px 1px 3px 1px rgba(60, 64, 67, 0.15);\n",
              "      fill: #174EA6;\n",
              "    }\n",
              "\n",
              "    [theme=dark] .colab-df-convert {\n",
              "      background-color: #3B4455;\n",
              "      fill: #D2E3FC;\n",
              "    }\n",
              "\n",
              "    [theme=dark] .colab-df-convert:hover {\n",
              "      background-color: #434B5C;\n",
              "      box-shadow: 0px 1px 3px 1px rgba(0, 0, 0, 0.15);\n",
              "      filter: drop-shadow(0px 1px 2px rgba(0, 0, 0, 0.3));\n",
              "      fill: #FFFFFF;\n",
              "    }\n",
              "  </style>\n",
              "\n",
              "      <script>\n",
              "        const buttonEl =\n",
              "          document.querySelector('#df-4377faec-286a-4727-84d5-915353ce7f77 button.colab-df-convert');\n",
              "        buttonEl.style.display =\n",
              "          google.colab.kernel.accessAllowed ? 'block' : 'none';\n",
              "\n",
              "        async function convertToInteractive(key) {\n",
              "          const element = document.querySelector('#df-4377faec-286a-4727-84d5-915353ce7f77');\n",
              "          const dataTable =\n",
              "            await google.colab.kernel.invokeFunction('convertToInteractive',\n",
              "                                                     [key], {});\n",
              "          if (!dataTable) return;\n",
              "\n",
              "          const docLinkHtml = 'Like what you see? Visit the ' +\n",
              "            '<a target=\"_blank\" href=https://colab.research.google.com/notebooks/data_table.ipynb>data table notebook</a>'\n",
              "            + ' to learn more about interactive tables.';\n",
              "          element.innerHTML = '';\n",
              "          dataTable['output_type'] = 'display_data';\n",
              "          await google.colab.output.renderOutput(dataTable, element);\n",
              "          const docLink = document.createElement('div');\n",
              "          docLink.innerHTML = docLinkHtml;\n",
              "          element.appendChild(docLink);\n",
              "        }\n",
              "      </script>\n",
              "    </div>\n",
              "  </div>\n",
              "  "
            ]
          },
          "metadata": {},
          "execution_count": 26
        }
      ]
    },
    {
      "cell_type": "markdown",
      "source": [
        "## Data Preparation\n",
        "\n",
        "Membangun Cluster yang representatif\n"
      ],
      "metadata": {
        "id": "Hj7iDgKk1vCC"
      }
    },
    {
      "cell_type": "markdown",
      "source": [
        "### 3.2 K-Means\n",
        "\n",
        "* Dalam tahap awal kita akan menentukan initial `k`, dimana kita akan coba membuat cluster dengan nilai `k=5`.\n",
        "\n",
        "* *Notes*. Durasi pelatihan model akan berbanding lurus dengan banyaknya data dan jumlah cluster (`k`) yang ditentukan"
      ],
      "metadata": {
        "id": "rdWVi4Prs3sE"
      }
    },
    {
      "cell_type": "code",
      "source": [
        "X = df.iloc[:, [1,2,3]].values"
      ],
      "metadata": {
        "id": "HXeU8DAZsp-J"
      },
      "execution_count": 27,
      "outputs": []
    },
    {
      "cell_type": "code",
      "source": [
        "K = 5 #data kita latih\n",
        "kmeans_5 = KMeans(n_clusters=K, random_state=11) # memanggil model kmeans dengan setting n_cluster sejumlah k\n",
        "\n",
        "start = time()\n",
        "kmeans_5.fit(X) #generate model fit()\n",
        "print(f\"Done fitting kMeans in {time()-start:.3f}s\")"
      ],
      "metadata": {
        "colab": {
          "base_uri": "https://localhost:8080/"
        },
        "id": "I5VjDeceseEc",
        "outputId": "6a65e9a2-e168-472b-a9b2-666c1af7809a"
      },
      "execution_count": 28,
      "outputs": [
        {
          "output_type": "stream",
          "name": "stdout",
          "text": [
            "Done fitting kMeans in 0.191s\n"
          ]
        }
      ]
    },
    {
      "cell_type": "code",
      "source": [
        "K = 15\n",
        "kmeans_15 = KMeans(n_clusters=K, random_state=11)\n",
        "\n",
        "start = time()\n",
        "kmeans_15.fit(X)\n",
        "print(f\"Done fitting kMeans in {time()-start:.3f}s\")"
      ],
      "metadata": {
        "colab": {
          "base_uri": "https://localhost:8080/"
        },
        "id": "OerQDJTdwQYp",
        "outputId": "d6379ffb-a4aa-4200-dae8-437dafa26a34"
      },
      "execution_count": 29,
      "outputs": [
        {
          "output_type": "stream",
          "name": "stdout",
          "text": [
            "Done fitting kMeans in 0.170s\n"
          ]
        }
      ]
    },
    {
      "cell_type": "markdown",
      "source": [
        "* Setelah selesai dilatih, kita akan coba membuat kolom baru `clusters_of_5`, `cluster_of_15` pada data `df`, yang merepresentasikan cluster dari model-model tersebut, untuk selanjutnya dicari nilai _cardinality_"
      ],
      "metadata": {
        "id": "8UhJMNYBufWg"
      }
    },
    {
      "cell_type": "code",
      "source": [
        "X = df.assign(\n",
        "    clusters_of_5=kmeans_5.predict(X),\n",
        "    clusters_of_15=kmeans_15.predict(X)\n",
        ")\n",
        "\n",
        "with pd.option_context(\"display.max_columns\", None):\n",
        "    display(X.head())"
      ],
      "metadata": {
        "colab": {
          "base_uri": "https://localhost:8080/",
          "height": 206
        },
        "id": "-jzFqWRuuMEl",
        "outputId": "cb7a2b12-ecb6-4a34-c031-dba0ede06945"
      },
      "execution_count": 30,
      "outputs": [
        {
          "output_type": "display_data",
          "data": {
            "text/plain": [
              "   Kelamin  Umur  Pendapatan (Juta Rp)  Rating Pengeluaran (1-100)  kelamin  \\\n",
              "0        1  19.0                    15                          39        1   \n",
              "1        1  21.0                    15                          81        1   \n",
              "2        0  20.0                    16                           6        0   \n",
              "3        0  23.0                    16                          77        0   \n",
              "4        0  31.0                    17                          40        0   \n",
              "\n",
              "   clusters_of_5  clusters_of_15  \n",
              "0              4               0  \n",
              "1              0               3  \n",
              "2              4               0  \n",
              "3              0               3  \n",
              "4              4               0  "
            ],
            "text/html": [
              "\n",
              "  <div id=\"df-c44e20d5-7bee-4fcd-9bca-af92a060d29f\">\n",
              "    <div class=\"colab-df-container\">\n",
              "      <div>\n",
              "<style scoped>\n",
              "    .dataframe tbody tr th:only-of-type {\n",
              "        vertical-align: middle;\n",
              "    }\n",
              "\n",
              "    .dataframe tbody tr th {\n",
              "        vertical-align: top;\n",
              "    }\n",
              "\n",
              "    .dataframe thead th {\n",
              "        text-align: right;\n",
              "    }\n",
              "</style>\n",
              "<table border=\"1\" class=\"dataframe\">\n",
              "  <thead>\n",
              "    <tr style=\"text-align: right;\">\n",
              "      <th></th>\n",
              "      <th>Kelamin</th>\n",
              "      <th>Umur</th>\n",
              "      <th>Pendapatan (Juta Rp)</th>\n",
              "      <th>Rating Pengeluaran (1-100)</th>\n",
              "      <th>kelamin</th>\n",
              "      <th>clusters_of_5</th>\n",
              "      <th>clusters_of_15</th>\n",
              "    </tr>\n",
              "  </thead>\n",
              "  <tbody>\n",
              "    <tr>\n",
              "      <th>0</th>\n",
              "      <td>1</td>\n",
              "      <td>19.0</td>\n",
              "      <td>15</td>\n",
              "      <td>39</td>\n",
              "      <td>1</td>\n",
              "      <td>4</td>\n",
              "      <td>0</td>\n",
              "    </tr>\n",
              "    <tr>\n",
              "      <th>1</th>\n",
              "      <td>1</td>\n",
              "      <td>21.0</td>\n",
              "      <td>15</td>\n",
              "      <td>81</td>\n",
              "      <td>1</td>\n",
              "      <td>0</td>\n",
              "      <td>3</td>\n",
              "    </tr>\n",
              "    <tr>\n",
              "      <th>2</th>\n",
              "      <td>0</td>\n",
              "      <td>20.0</td>\n",
              "      <td>16</td>\n",
              "      <td>6</td>\n",
              "      <td>0</td>\n",
              "      <td>4</td>\n",
              "      <td>0</td>\n",
              "    </tr>\n",
              "    <tr>\n",
              "      <th>3</th>\n",
              "      <td>0</td>\n",
              "      <td>23.0</td>\n",
              "      <td>16</td>\n",
              "      <td>77</td>\n",
              "      <td>0</td>\n",
              "      <td>0</td>\n",
              "      <td>3</td>\n",
              "    </tr>\n",
              "    <tr>\n",
              "      <th>4</th>\n",
              "      <td>0</td>\n",
              "      <td>31.0</td>\n",
              "      <td>17</td>\n",
              "      <td>40</td>\n",
              "      <td>0</td>\n",
              "      <td>4</td>\n",
              "      <td>0</td>\n",
              "    </tr>\n",
              "  </tbody>\n",
              "</table>\n",
              "</div>\n",
              "      <button class=\"colab-df-convert\" onclick=\"convertToInteractive('df-c44e20d5-7bee-4fcd-9bca-af92a060d29f')\"\n",
              "              title=\"Convert this dataframe to an interactive table.\"\n",
              "              style=\"display:none;\">\n",
              "        \n",
              "  <svg xmlns=\"http://www.w3.org/2000/svg\" height=\"24px\"viewBox=\"0 0 24 24\"\n",
              "       width=\"24px\">\n",
              "    <path d=\"M0 0h24v24H0V0z\" fill=\"none\"/>\n",
              "    <path d=\"M18.56 5.44l.94 2.06.94-2.06 2.06-.94-2.06-.94-.94-2.06-.94 2.06-2.06.94zm-11 1L8.5 8.5l.94-2.06 2.06-.94-2.06-.94L8.5 2.5l-.94 2.06-2.06.94zm10 10l.94 2.06.94-2.06 2.06-.94-2.06-.94-.94-2.06-.94 2.06-2.06.94z\"/><path d=\"M17.41 7.96l-1.37-1.37c-.4-.4-.92-.59-1.43-.59-.52 0-1.04.2-1.43.59L10.3 9.45l-7.72 7.72c-.78.78-.78 2.05 0 2.83L4 21.41c.39.39.9.59 1.41.59.51 0 1.02-.2 1.41-.59l7.78-7.78 2.81-2.81c.8-.78.8-2.07 0-2.86zM5.41 20L4 18.59l7.72-7.72 1.47 1.35L5.41 20z\"/>\n",
              "  </svg>\n",
              "      </button>\n",
              "      \n",
              "  <style>\n",
              "    .colab-df-container {\n",
              "      display:flex;\n",
              "      flex-wrap:wrap;\n",
              "      gap: 12px;\n",
              "    }\n",
              "\n",
              "    .colab-df-convert {\n",
              "      background-color: #E8F0FE;\n",
              "      border: none;\n",
              "      border-radius: 50%;\n",
              "      cursor: pointer;\n",
              "      display: none;\n",
              "      fill: #1967D2;\n",
              "      height: 32px;\n",
              "      padding: 0 0 0 0;\n",
              "      width: 32px;\n",
              "    }\n",
              "\n",
              "    .colab-df-convert:hover {\n",
              "      background-color: #E2EBFA;\n",
              "      box-shadow: 0px 1px 2px rgba(60, 64, 67, 0.3), 0px 1px 3px 1px rgba(60, 64, 67, 0.15);\n",
              "      fill: #174EA6;\n",
              "    }\n",
              "\n",
              "    [theme=dark] .colab-df-convert {\n",
              "      background-color: #3B4455;\n",
              "      fill: #D2E3FC;\n",
              "    }\n",
              "\n",
              "    [theme=dark] .colab-df-convert:hover {\n",
              "      background-color: #434B5C;\n",
              "      box-shadow: 0px 1px 3px 1px rgba(0, 0, 0, 0.15);\n",
              "      filter: drop-shadow(0px 1px 2px rgba(0, 0, 0, 0.3));\n",
              "      fill: #FFFFFF;\n",
              "    }\n",
              "  </style>\n",
              "\n",
              "      <script>\n",
              "        const buttonEl =\n",
              "          document.querySelector('#df-c44e20d5-7bee-4fcd-9bca-af92a060d29f button.colab-df-convert');\n",
              "        buttonEl.style.display =\n",
              "          google.colab.kernel.accessAllowed ? 'block' : 'none';\n",
              "\n",
              "        async function convertToInteractive(key) {\n",
              "          const element = document.querySelector('#df-c44e20d5-7bee-4fcd-9bca-af92a060d29f');\n",
              "          const dataTable =\n",
              "            await google.colab.kernel.invokeFunction('convertToInteractive',\n",
              "                                                     [key], {});\n",
              "          if (!dataTable) return;\n",
              "\n",
              "          const docLinkHtml = 'Like what you see? Visit the ' +\n",
              "            '<a target=\"_blank\" href=https://colab.research.google.com/notebooks/data_table.ipynb>data table notebook</a>'\n",
              "            + ' to learn more about interactive tables.';\n",
              "          element.innerHTML = '';\n",
              "          dataTable['output_type'] = 'display_data';\n",
              "          await google.colab.output.renderOutput(dataTable, element);\n",
              "          const docLink = document.createElement('div');\n",
              "          docLink.innerHTML = docLinkHtml;\n",
              "          element.appendChild(docLink);\n",
              "        }\n",
              "      </script>\n",
              "    </div>\n",
              "  </div>\n",
              "  "
            ]
          },
          "metadata": {}
        }
      ]
    },
    {
      "cell_type": "markdown",
      "source": [
        "## 4. Model Evaluation\n",
        "\n",
        "Pada tahap evaluasi model, kita akan coba menganalisis _cardinality_ "
      ],
      "metadata": {
        "id": "OAzdhJmXv2ve"
      }
    },
    {
      "cell_type": "markdown",
      "source": [
        "###  Cluster Cardinality"
      ],
      "metadata": {
        "id": "ZPKtsDliyKNf"
      }
    },
    {
      "cell_type": "code",
      "source": [
        "fig, axis = plt.subplots(1, 2, figsize=(18, 6))\n",
        "for ax, preds in zip(axis, [\"clusters_of_5\", \"clusters_of_15\"]):\n",
        "    sns.countplot(x=preds, data=X, ax=ax, palette=\"Paired\")\n",
        "    ax.set_title(preds)\n",
        "plt.suptitle(\"Cluster Cardinality\")\n",
        "plt.show()"
      ],
      "metadata": {
        "colab": {
          "base_uri": "https://localhost:8080/",
          "height": 432
        },
        "id": "pEEQvdri2jRK",
        "outputId": "9f956ace-b781-45b3-ce65-a27b77c81b57"
      },
      "execution_count": 31,
      "outputs": [
        {
          "output_type": "display_data",
          "data": {
            "text/plain": [
              "<Figure size 1296x432 with 2 Axes>"
            ],
            "image/png": "[encoded data removed]"
          },
          "metadata": {
            "needs_background": "light"
          }
        }
      ]
    },
    {
      "cell_type": "markdown",
      "source": [
        "Dari visualisasi _cluster cardinality_ di atas:\n",
        "* Model dengan 5 cluster (k=5), terlihat bahwa terdapat perbedaan cukup jauh antara cluster `2` dengan cluster lainnya tetapi tidak ekstrim\n",
        "* Model dengan 15 cluster (k=15), terlihat kardinalitas cluster `1` lebih banyak dibandingkan dengan cluster yang lain."
      ],
      "metadata": {
        "id": "mXLrDrwVypLK"
      }
    },
    {
      "cell_type": "markdown",
      "source": [
        "## Clustering Umur dan Pendapatan"
      ],
      "metadata": {
        "id": "PrR94brFE2Sy"
      }
    },
    {
      "cell_type": "markdown",
      "source": [
        "### 4.3 Elbow Method\n",
        "\n",
        "Untuk menggunakan elbow method, kita perlu menghitung **inertia** dari seluruh cluster.\n",
        "\n",
        "> **inertia** adalah jumlah kuadrat jarak sampel ke pusat cluster terdekat ([ref](https://scikit-learn.org/stable/modules/generated/sklearn.cluster.KMeans.html))\n",
        "\n",
        "Kita akan mencoba beberapa nilai `k` (jumlah cluster) untuk dihitung nilai inertia-nya. Kemudian, kita akan buat visualisasi tren nilai inertia untuk masing-masing nilai `k`. **Jumlah cluster yang optimal ditentukan secara visual dengan mencari bentuk siku _elbow_ pada plot setelah inertia mulai menurun secara linier**. ([ref](https://towardsdatascience.com/common-mistakes-in-cluster-analysis-and-how-to-avoid-them-eb960116d773))"
      ],
      "metadata": {
        "id": "ku6QSVWCOD_n"
      }
    },
    {
      "cell_type": "code",
      "source": [
        "X = df[['Umur','Pendapatan (Juta Rp)']].values"
      ],
      "metadata": {
        "id": "5seh29qFpWBB"
      },
      "execution_count": 37,
      "outputs": []
    },
    {
      "cell_type": "code",
      "source": [
        "# finding optimum number of clusters\n",
        "wcss_list = [] #mempersiapkan perhitungan wcss\n",
        "\n",
        "for i in range(1,11): #perintah looping\n",
        "    kmeans_test = KMeans(n_clusters = i, init ='k-means++', random_state=88) #n_clusters jumlah kluster,init yang merupakan pemilihan jumlah K di awal (kali ini kita gunakan K++, agar tidak terkena jebakan centroid, random state memiliki kesempatan yg berbeda\n",
        "    kmeans_test.fit(X) #perintah agar objek kmeans di line sebelumnya, digunakan untuk mengolah data X.\n",
        "    wcss_list.append(kmeans_test.inertia_) #menghitung WCSS dengan menuliskan perintah append setelah wcss.\n",
        "\n",
        "plt.figure(figsize=(9,6))\n",
        "plt.plot(range(1, 11), wcss_list)\n",
        "plt.title('The Elbow Method')\n",
        "plt.xlabel('Number of clusters')\n",
        "plt.xticks(np.arange(1,11))\n",
        "plt.ylabel('WCSS')\n",
        "plt.show()"
      ],
      "metadata": {
        "colab": {
          "base_uri": "https://localhost:8080/",
          "height": 404
        },
        "id": "gveIZZstZR6H",
        "outputId": "56c93992-786f-4953-eaeb-f0f6b74c330d"
      },
      "execution_count": 38,
      "outputs": [
        {
          "output_type": "display_data",
          "data": {
            "text/plain": [
              "<Figure size 648x432 with 1 Axes>"
            ],
            "image/png": "[encoded data removed]"
          },
          "metadata": {
            "needs_background": "light"
          }
        }
      ]
    },
    {
      "cell_type": "markdown",
      "source": [
        "Dapat Dilihat bahwa K optimum berada di k=2"
      ],
      "metadata": {
        "id": "ksZ5z4V2JD0d"
      }
    },
    {
      "cell_type": "code",
      "source": [
        "# KMeans\n",
        "kmeans = KMeans(n_clusters = 2, init ='k-means++', random_state=88)\n",
        "y_kmeans = kmeans.fit_predict(X) #prediksi pengelompokan cluster\n",
        "\n",
        "#untuk unsupervised learning kita gunakan \"fit_predict()\" untuk supervised learning we use \"fit_tranform()\"\n",
        "#y_kmeans is the final model."
      ],
      "metadata": {
        "id": "xpN6zsQBFNan"
      },
      "execution_count": 39,
      "outputs": []
    },
    {
      "cell_type": "code",
      "source": [
        "#Visualizing all the clusters \n",
        "plt.figure(1 , figsize = (10 ,5))\n",
        "plt.scatter(X[y_kmeans == 0, 0], X[y_kmeans == 0, 1], s = 100, c = 'red', label = 'Cluster 1')\n",
        "plt.scatter(X[y_kmeans == 1, 0], X[y_kmeans == 1, 1], s = 100, c = 'blue', label = 'Cluster 2')\n",
        "\n",
        "plt.scatter(kmeans.cluster_centers_[:, 0], kmeans.cluster_centers_[:, 1], s = 300, c = 'yellow', label = 'Centroids')\n",
        "plt.title('Clusters of customers')\n",
        "plt.xlabel('Umur')\n",
        "plt.ylabel('Pendapatan (Juta Rp)')\n",
        "plt.legend()\n",
        "plt.show()"
      ],
      "metadata": {
        "colab": {
          "base_uri": "https://localhost:8080/",
          "height": 350
        },
        "id": "2w48AgD-FjwW",
        "outputId": "529d1f45-e839-483b-ecec-6f4518590394"
      },
      "execution_count": 44,
      "outputs": [
        {
          "output_type": "display_data",
          "data": {
            "text/plain": [
              "<Figure size 720x360 with 1 Axes>"
            ],
            "image/png": "[encoded data removed]"
          },
          "metadata": {
            "needs_background": "light"
          }
        }
      ]
    },
    {
      "cell_type": "markdown",
      "source": [
        "dari grafik di atas cluster 2 memiliki pendapatan 60-140 juta dengan umur yang beragam"
      ],
      "metadata": {
        "id": "AAULJN4zLwKc"
      }
    },
    {
      "cell_type": "markdown",
      "source": [
        "### Clustering Umur dan Rating Pengeluaran (1-100)"
      ],
      "metadata": {
        "id": "fg7hkILzSo3J"
      }
    },
    {
      "cell_type": "code",
      "source": [
        "X = df[['Umur','Rating Pengeluaran (1-100)']].values"
      ],
      "metadata": {
        "id": "SLDmgOylIQF0"
      },
      "execution_count": 45,
      "outputs": []
    },
    {
      "cell_type": "code",
      "source": [
        "# finding optimum number of clusters\n",
        "wcss_list = []\n",
        "\n",
        "for i in range(1,11):\n",
        "    kmeans_test = KMeans(n_clusters = i, init ='k-means++', random_state=88)\n",
        "    kmeans_test.fit(X)\n",
        "    wcss_list.append(kmeans_test.inertia_)\n",
        "\n",
        "plt.figure(figsize=(9,6))\n",
        "plt.plot(range(1, 11), wcss_list)\n",
        "plt.title('The Elbow Method')\n",
        "plt.xlabel('Number of clusters')\n",
        "plt.xticks(np.arange(1,11))\n",
        "plt.ylabel('WCSS')\n",
        "plt.show()"
      ],
      "metadata": {
        "id": "jaCop7mp0OJr",
        "colab": {
          "base_uri": "https://localhost:8080/",
          "height": 404
        },
        "outputId": "08c09a91-483c-418d-99fe-398d8df4ac2b"
      },
      "execution_count": 46,
      "outputs": [
        {
          "output_type": "display_data",
          "data": {
            "text/plain": [
              "<Figure size 648x432 with 1 Axes>"
            ],
            "image/png": "[encoded data removed]"
          },
          "metadata": {
            "needs_background": "light"
          }
        }
      ]
    },
    {
      "cell_type": "code",
      "source": [
        "# KMeans\n",
        "kmeans = KMeans(n_clusters = 4, init ='k-means++', random_state=88)\n",
        "y_kmeans = kmeans.fit_predict(X)\n",
        "\n",
        "#untuk unsupervised learning kita gunakan \"fit_predict()\" untuk supervised learning we use \"fit_tranform()\"\n",
        "#y_kmeans is the final model."
      ],
      "metadata": {
        "id": "G3t8V-up0jpj"
      },
      "execution_count": 47,
      "outputs": []
    },
    {
      "cell_type": "code",
      "source": [
        "#Visualizing all the clusters \n",
        "plt.figure(1 , figsize = (16 ,9))\n",
        "plt.scatter(X[y_kmeans == 0, 0], X[y_kmeans == 0, 1], s = 100, c = 'red', label = 'Cluster 1')\n",
        "plt.scatter(X[y_kmeans == 1, 0], X[y_kmeans == 1, 1], s = 100, c = 'blue', label = 'Cluster 2')\n",
        "plt.scatter(X[y_kmeans == 2, 0], X[y_kmeans == 2, 1], s = 100, c = 'green', label = 'Cluster 3')\n",
        "plt.scatter(X[y_kmeans == 3, 0], X[y_kmeans == 3, 1], s = 100, c = 'cyan', label = 'Cluster 4')\n",
        "\n",
        "plt.scatter(kmeans.cluster_centers_[:, 0], kmeans.cluster_centers_[:, 1], s = 300, c = 'yellow', label = 'Centroids')\n",
        "plt.title('Clusters of customers')\n",
        "plt.xlabel('Umur')\n",
        "plt.ylabel('Rating Pengeluaran (1-100)')\n",
        "plt.legend()\n",
        "plt.show()"
      ],
      "metadata": {
        "colab": {
          "base_uri": "https://localhost:8080/",
          "height": 566
        },
        "id": "0_O4v9jJ05Gt",
        "outputId": "3f8640bd-8094-4684-a9f3-1d59cfc228b2"
      },
      "execution_count": 48,
      "outputs": [
        {
          "output_type": "display_data",
          "data": {
            "text/plain": [
              "<Figure size 1152x648 with 1 Axes>"
            ],
            "image/png": "[encoded data removed]"
          },
          "metadata": {
            "needs_background": "light"
          }
        }
      ]
    },
    {
      "cell_type": "markdown",
      "source": [
        "Kita lihat orang orang dengan umur 20-40 dari grafik diatas, memiliki kebiasa membeli / berbelanja yang cukup tinggi, kita bisa membuat dan kita bisa lebih spesifikan target audiens kita\n",
        "\n",
        "membuat diskon khusus untuk pelanggan berusia 20-40 dapat meningkatkan keuntungan toko kita."
      ],
      "metadata": {
        "id": "a19Bb9xY19rj"
      }
    },
    {
      "cell_type": "markdown",
      "source": [
        "CLUSTERING ANNUAL INCOME DAN SPENDING SCORE"
      ],
      "metadata": {
        "id": "xjEjb_G62pPM"
      }
    },
    {
      "cell_type": "code",
      "source": [
        "X = df[['Pendapatan (Juta Rp)','Rating Pengeluaran (1-100)']].values"
      ],
      "metadata": {
        "id": "h-__hpFGqH0s"
      },
      "execution_count": null,
      "outputs": []
    },
    {
      "cell_type": "code",
      "source": [
        "#Building the Model\n",
        "#KMeans Algorithm to decide the optimum cluster number , KMeans++ using Elbow Mmethod\n",
        "#to figure out K for KMeans, I will use ELBOW Method on KMEANS++ Calculation\n",
        "from sklearn.cluster import KMeans\n",
        "wcss=[]\n",
        "\n",
        "#we always assume the max number of cluster would be 10\n",
        "#you can judge the number of clusters by doing averaging\n",
        "###Static code to get max no of clusters\n",
        "\n",
        "for i in range(1,11):\n",
        "    kmeans = KMeans(n_clusters= i, init='k-means++', random_state=88)\n",
        "    kmeans.fit(X)\n",
        "    wcss.append(kmeans.inertia_)\n",
        "\n",
        "    #inertia_ is the formula used to segregate the data points into clusters"
      ],
      "metadata": {
        "id": "GF8v3ReQ2VTo"
      },
      "execution_count": null,
      "outputs": []
    },
    {
      "cell_type": "code",
      "source": [
        "#Visualizing the ELBOW method to get the optimal value of K \n",
        "plt.figure(figsize=(10,5))\n",
        "plt.plot(range(1,11), wcss)\n",
        "plt.title('The Elbow Method')\n",
        "plt.xlabel('number of clusters')\n",
        "plt.ylabel('wcss')\n",
        "plt.show()"
      ],
      "metadata": {
        "id": "03vgfqTy2QPq"
      },
      "execution_count": null,
      "outputs": []
    },
    {
      "cell_type": "code",
      "source": [
        "#bisa kita lihat elbow terakhir berada di k=5\n",
        "\n",
        "\n",
        "#Model Build\n",
        "kmeansmodel = KMeans(n_clusters= 5, init='k-means++', random_state=0)\n",
        "y_kmeans= kmeansmodel.fit_predict(X)\n",
        "\n",
        "#untuk unsupervised learning kita gunakan \"fit_predict()\" untuk supervised learning we use \"fit_tranform()\"\n",
        "#y_kmeans is the final model."
      ],
      "metadata": {
        "id": "MhDOGK9P2b3W"
      },
      "execution_count": null,
      "outputs": []
    },
    {
      "cell_type": "code",
      "source": [
        "#Visualizing all the clusters \n",
        "plt.figure(figsize=(10,5))\n",
        "plt.scatter(X[y_kmeans == 0, 0], X[y_kmeans == 0, 1], s = 100, c = 'red', label = 'Cluster 1')\n",
        "plt.scatter(X[y_kmeans == 1, 0], X[y_kmeans == 1, 1], s = 100, c = 'blue', label = 'Cluster 2')\n",
        "plt.scatter(X[y_kmeans == 2, 0], X[y_kmeans == 2, 1], s = 100, c = 'green', label = 'Cluster 3')\n",
        "plt.scatter(X[y_kmeans == 3, 0], X[y_kmeans == 3, 1], s = 100, c = 'cyan', label = 'Cluster 4')\n",
        "plt.scatter(X[y_kmeans == 4, 0], X[y_kmeans == 4, 1], s = 100, c = 'magenta', label = 'Cluster 5')\n",
        "plt.scatter(kmeans.cluster_centers_[:, 0], kmeans.cluster_centers_[:, 1], s = 300, c = 'yellow', label = 'Centroids')\n",
        "plt.title('Clusters of customers')\n",
        "plt.xlabel('Pendapatan (Juta Rp)')\n",
        "plt.ylabel('Rating Pengeluaran (1-100)')\n",
        "plt.legend()\n",
        "plt.show()"
      ],
      "metadata": {
        "id": "aKSO-Bu02qKl"
      },
      "execution_count": null,
      "outputs": []
    },
    {
      "cell_type": "markdown",
      "source": [
        "## Model Interpretation \n",
        "Cluster 1 (Red Color) -> earning high but spending less\n",
        "\n",
        "cluster 2 (Blue Colr) -> average in terms of earning and spending \n",
        "\n",
        "cluster 3 (Green Color) -> earning high and also spending high [TARGET SET]\n",
        "\n",
        "cluster 4 (cyan Color) -> earning less but spending more [TARGET SET]\n",
        "\n",
        "Cluster 5 (magenta Color) -> Earning less , spending less\n",
        "\n",
        "Salah satu dari dua wilayah yang ditampilkan dapat dipilih sebagai target pelanggan. bisa dilihat grafik di atas untuk cluster 3 dan 4 mereka memiliki spending score yang cukup tinggi, jadi jika kita ingin membuat toko menjadi perbelanjaan yang menarik kita bisa memilih target pelanggan dari dua wilayah di atas, kita akan mendapatkan lebih banyak untung yang bisa didapat.\n",
        "\n",
        "kita bisa targetkan market kita berada di cluster 3 dan cluster 4 yaitu earning high also spending more, dan earning less but spending more, dan juga membuat sebuah kampanye khusus untuk umur 20 hingga 40, karena dilihat dari grafik clustering 'Umur' dan 'Pengeluaran' umur tersebut memiliki skor pengeluaran yang tinggi.\n",
        "\n",
        "\n"
      ],
      "metadata": {
        "id": "k0Gstcuk19mf"
      }
    }
  ]
}